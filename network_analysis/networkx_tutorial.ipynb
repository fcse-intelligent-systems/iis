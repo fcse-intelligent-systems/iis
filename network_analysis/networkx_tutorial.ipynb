{
 "cells": [
  {
   "cell_type": "markdown",
   "metadata": {
    "collapsed": true
   },
   "source": [
    "# 1\tNetworkX – Python библиотека за графови "
   ]
  },
  {
   "cell_type": "markdown",
   "metadata": {},
   "source": [
    "Граф во математиката и компјутерските науки претставува колекција од јазли кои можат да бидат поврзани помеѓу себе со врски (рабови). NetworkX претставува библиотека за програмскиот јазик Python за создавање, манипулација, и проучување на структурата, динамиката и функциите на сложените мрежи. Инсталацијата на NetworkX е преку следата команда:\n",
    "\n",
    "` pip install networkx `\n",
    "\n",
    "Главната структура е `Graph`. Еден граф може да биде насочен и ненасочен, и може да вклучува паралелни врски помеѓу два јазли, па соодветно во NetworkX се дефинирани:\n",
    "\n",
    "- `Graph` – ненасочен едноставен граф (дозволува јамки (self-loops))\n",
    "- `DiGraph` – насочен едноставен граф (дозволува јамки (self-loops))\n",
    "- `MultiGraph` – ненасочен граф со повеќе врски помеѓу пар на јазли \n",
    "- `MultiDiGraph` – насочен граф со повеќе врски помеѓу пар на јазли\n",
    "\n"
   ]
  },
  {
   "cell_type": "markdown",
   "metadata": {},
   "source": [
    "\n"
   ]
  },
  {
   "cell_type": "markdown",
   "metadata": {},
   "source": [
    "За да се креира едноставен празен граф се користи податочната структура која што ни е потребна:"
   ]
  },
  {
   "cell_type": "code",
   "execution_count": 1,
   "metadata": {},
   "outputs": [],
   "source": [
    "import networkx as nx\n",
    "\n",
    "g = nx.Graph()\n",
    "d = nx.DiGraph()\n",
    "m = nx.MultiGraph()\n",
    "h = nx.MultiDiGraph()"
   ]
  },
  {
   "cell_type": "markdown",
   "metadata": {},
   "source": [
    "Вака креираните графови немаат дефинирани јазли и врски, па за да се креираат овие две компоненти се користат функциите `nx.add_node(name, args*)` и `nx.add_edge(source, target, args*)`. Врските во графот можат да бидат и тежински, па соодветно NetworkX поддржува поставување на тежини на врските:"
   ]
  },
  {
   "cell_type": "code",
   "execution_count": 2,
   "metadata": {},
   "outputs": [],
   "source": [
    "g.add_edge(35, 2, weight=5)"
   ]
  },
  {
   "cell_type": "markdown",
   "metadata": {},
   "source": [
    "### Вчитување на податоци"
   ]
  },
  {
   "cell_type": "markdown",
   "metadata": {},
   "source": [
    "Библиотеката вклучува поддршка за читање/запишување на графови во различен формат на датотеки. Пример, за читање на листа од врски може да користиме датотека во која секој ред е една врска опишана со идентификатор на стартниот јазел и дестинацискиот јазел, одделени со празно место:"
   ]
  },
  {
   "cell_type": "code",
   "execution_count": 4,
   "metadata": {},
   "outputs": [],
   "source": [
    "g = nx.read_edgelist(\"test.edges\")"
   ]
  },
  {
   "cell_type": "markdown",
   "metadata": {},
   "source": [
    "Друг пример е доколку читаме листа на соседство, односно датотека во која секој ред е даден јазел, по кој следуваат неговите соседи: "
   ]
  },
  {
   "cell_type": "code",
   "execution_count": 6,
   "metadata": {},
   "outputs": [],
   "source": [
    "g = nx.read_adjlist(\"test_adj.txt\")"
   ]
  },
  {
   "cell_type": "markdown",
   "metadata": {},
   "source": [
    "Дополнително, доколку имаме различен начин на претставување на графот кој се чита од дадена датотека, можеме датотеката да ја вчитаме во pandas Dataframe структура, од која потоа може да го креираме графот преку следната функција: \n",
    "\n",
    "`nx.from_pandas_edgelist(edgelist, edge_attr=\"label\")`\n"
   ]
  },
  {
   "cell_type": "markdown",
   "metadata": {},
   "source": [
    "### Пристапување на врски и јазли"
   ]
  },
  {
   "cell_type": "markdown",
   "metadata": {},
   "source": [
    "Покрај прегледите `Graph.edges()` и `Graph.adj()`, можен е пристап до врските и соседите со употреба на стандардна Python нотација: "
   ]
  },
  {
   "cell_type": "code",
   "execution_count": 8,
   "metadata": {},
   "outputs": [
    {
     "data": {
      "text/plain": [
       "AtlasView({'b': {}, 'f': {}})"
      ]
     },
     "execution_count": 8,
     "metadata": {},
     "output_type": "execute_result"
    }
   ],
   "source": [
    "g['a']"
   ]
  },
  {
   "cell_type": "code",
   "execution_count": 9,
   "metadata": {},
   "outputs": [
    {
     "data": {
      "text/plain": [
       "{}"
      ]
     },
     "execution_count": 9,
     "metadata": {},
     "output_type": "execute_result"
    }
   ],
   "source": [
    "g['a']['b']"
   ]
  },
  {
   "cell_type": "code",
   "execution_count": 10,
   "metadata": {},
   "outputs": [
    {
     "data": {
      "text/plain": [
       "{}"
      ]
     },
     "execution_count": 10,
     "metadata": {},
     "output_type": "execute_result"
    }
   ],
   "source": [
    "g.edges['a', 'b']"
   ]
  },
  {
   "cell_type": "markdown",
   "metadata": {},
   "source": [
    "Може да се добијат/постават атрибути на врските со користење на следната нотација: "
   ]
  },
  {
   "cell_type": "code",
   "execution_count": 15,
   "metadata": {},
   "outputs": [
    {
     "data": {
      "text/plain": [
       "{'color': 'red'}"
      ]
     },
     "execution_count": 15,
     "metadata": {},
     "output_type": "execute_result"
    }
   ],
   "source": [
    "g.add_edge('a', 'g')\n",
    "g['a']['g']['color'] = \"blue\"\n",
    "g.edges['a', 'b']['color'] = \"red\"\n",
    "g.edges['a', 'b']"
   ]
  },
  {
   "cell_type": "markdown",
   "metadata": {},
   "source": [
    "Брзо испитување на сите (јазeл, соседство) парови се постигнува со употреба на `Graph.adjacency()` или `Graph.adj.items()`. Забележете дека за ненасочените графови, итерацијата на сеседство ја гледа секоја врска двапати."
   ]
  },
  {
   "cell_type": "code",
   "execution_count": 16,
   "metadata": {},
   "outputs": [
    {
     "name": "stdout",
     "output_type": "stream",
     "text": [
      "(1, 2, 0.125)\n",
      "(2, 1, 0.125)\n",
      "(3, 4, 0.375)\n",
      "(4, 3, 0.375)\n"
     ]
    }
   ],
   "source": [
    "FG = nx.Graph()\n",
    "FG.add_weighted_edges_from([(1, 2, 0.125), (1, 3, 0.75), (2, 4, 1.2), (3, 4, 0.375)])\n",
    "for n, nbrs in FG.adj.items():\n",
    "    for nbr, eattr in nbrs.items():\n",
    "        wt = eattr['weight']\n",
    "        if wt < 0.5: print('(%d, %d, %.3f)' % (n, nbr, wt))"
   ]
  },
  {
   "cell_type": "markdown",
   "metadata": {},
   "source": [
    "Погодниот пристап до сите рабови се постигнува со атрибутот `edges`:"
   ]
  },
  {
   "cell_type": "code",
   "execution_count": 17,
   "metadata": {},
   "outputs": [
    {
     "name": "stdout",
     "output_type": "stream",
     "text": [
      "(1, 2, 0.125)\n",
      "(3, 4, 0.375)\n"
     ]
    }
   ],
   "source": [
    "for (u, v, wt) in FG.edges.data('weight'):\n",
    "    if wt < 0.5: print('(%d, %d, %.3f)' % (u, v, wt))"
   ]
  },
  {
   "cell_type": "markdown",
   "metadata": {},
   "source": [
    "## Граф генератори и оператори"
   ]
  },
  {
   "cell_type": "markdown",
   "metadata": {},
   "source": [
    "Графовите може да се конструираат преку node-by-node или edge-by-edge пристапи прикажани до сега, но дполнително може да се креираат и со: "
   ]
  },
  {
   "cell_type": "markdown",
   "metadata": {},
   "source": [
    "#### 1. Примена на класични граф операции како што се: \n",
    "\n",
    "- `subgraph(G, nbunch)`      - индуциран подфраг на `G` од јазлите кои се специфицирани со `nbunch`\n",
    "- `union(G1,G2)`             - граф унија\n",
    "- `disjoint_union(G1,G2)`    - граф унија со претпоставка дека сите јасли се различни\n",
    "- `cartesian_product(G1,G2)` - враќа граф од Декартов производ\n",
    "- `compose(G1,G2)`           - комбинира графови идентификувајќи ги јазлите кои се заеднички за двата графови\n",
    "- `complement(G)`            - граф комплемент\n",
    "- `create_empty_copy(G)`     - враќа празна копија на истата граф класа\n",
    "- `to_undirected(G)` - враќа ненансочена решрезентација на `G`\n",
    "- `to_directed(G)`   - враќа нансочена решрезентација на `G`"
   ]
  },
  {
   "cell_type": "markdown",
   "metadata": {},
   "source": [
    "#### 2. Користење повик до еден од класичните мали графови:"
   ]
  },
  {
   "cell_type": "code",
   "execution_count": 18,
   "metadata": {},
   "outputs": [],
   "source": [
    "petersen = nx.petersen_graph()\n",
    "tutte = nx.tutte_graph()\n",
    "maze = nx.sedgewick_maze_graph()\n",
    "tet = nx.tetrahedral_graph()"
   ]
  },
  {
   "cell_type": "markdown",
   "metadata": {},
   "source": [
    "#### 3. Користење на (конструктивен) генератор за класичен граф:"
   ]
  },
  {
   "cell_type": "code",
   "execution_count": 19,
   "metadata": {},
   "outputs": [],
   "source": [
    "K_5 = nx.complete_graph(5)\n",
    "K_3_5 = nx.complete_bipartite_graph(3, 5)\n",
    "barbell = nx.barbell_graph(10, 10)\n",
    "lollipop = nx.lollipop_graph(10, 20)"
   ]
  },
  {
   "cell_type": "markdown",
   "metadata": {},
   "source": [
    "#### 4. Користење на веројатносен генератор на граф:"
   ]
  },
  {
   "cell_type": "code",
   "execution_count": 20,
   "metadata": {},
   "outputs": [],
   "source": [
    "er = nx.erdos_renyi_graph(100, 0.15)\n",
    "ws = nx.watts_strogatz_graph(30, 3, 0.1)\n",
    "ba = nx.barabasi_albert_graph(100, 5)\n",
    "red = nx.random_lobster(100, 0.9, 0.9)"
   ]
  },
  {
   "cell_type": "markdown",
   "metadata": {},
   "source": [
    "#### 5. Читање на граф зачуван во датотека користејќи вообичаени формати на графови, како што се листа на врски, листа на соседство, GML, GraphML, LEDA и др.:"
   ]
  },
  {
   "cell_type": "code",
   "execution_count": 21,
   "metadata": {},
   "outputs": [],
   "source": [
    "nx.write_gml(red, \"path.to.file\")\n",
    "mygraph = nx.read_gml(\"path.to.file\")"
   ]
  },
  {
   "cell_type": "markdown",
   "metadata": {},
   "source": [
    "## Анализа на графови "
   ]
  },
  {
   "cell_type": "markdown",
   "metadata": {},
   "source": [
    "Структурата на графот `G` може да се анализира со различни граф-теоретски функции, како што се: "
   ]
  },
  {
   "cell_type": "code",
   "execution_count": 22,
   "metadata": {},
   "outputs": [
    {
     "name": "stdout",
     "output_type": "stream",
     "text": [
      "[{1, 2, 3}, {'spam'}]\n",
      "[0, 1, 1, 2]\n",
      "{1: 0, 2: 0, 3: 0, 'spam': 0}\n"
     ]
    }
   ],
   "source": [
    "G = nx.Graph()\n",
    "G.add_edges_from([(1, 2), (1, 3)])\n",
    "G.add_node(\"spam\")       # adds node \"spam\"\n",
    "print(list(nx.connected_components(G)))\n",
    "print(sorted(d for n, d in G.degree()))\n",
    "print(nx.clustering(G))"
   ]
  },
  {
   "cell_type": "markdown",
   "metadata": {},
   "source": [
    "Некои функции со голем излез ги повторуваат паровите (јазел, вредност) како торки од 2 елементи. Ако сакате, тие лесно се чуваат во структура на речник:"
   ]
  },
  {
   "cell_type": "code",
   "execution_count": 24,
   "metadata": {},
   "outputs": [
    {
     "data": {
      "text/plain": [
       "[(1, {1: [1], 2: [1, 2], 3: [1, 3]}),\n",
       " (2, {2: [2], 1: [2, 1], 3: [2, 1, 3]}),\n",
       " (3, {3: [3], 1: [3, 1], 2: [3, 1, 2]}),\n",
       " ('spam', {'spam': ['spam']})]"
      ]
     },
     "execution_count": 24,
     "metadata": {},
     "output_type": "execute_result"
    }
   ],
   "source": [
    "list(nx.all_pairs_shortest_path(G))"
   ]
  },
  {
   "cell_type": "code",
   "execution_count": 25,
   "metadata": {},
   "outputs": [
    {
     "data": {
      "text/plain": [
       "{1: {1: [1], 2: [1, 2], 3: [1, 3]},\n",
       " 2: {2: [2], 1: [2, 1], 3: [2, 1, 3]},\n",
       " 3: {3: [3], 1: [3, 1], 2: [3, 1, 2]},\n",
       " 'spam': {'spam': ['spam']}}"
      ]
     },
     "execution_count": 25,
     "metadata": {},
     "output_type": "execute_result"
    }
   ],
   "source": [
    "dict(nx.all_pairs_shortest_path(G))"
   ]
  },
  {
   "cell_type": "code",
   "execution_count": 26,
   "metadata": {},
   "outputs": [
    {
     "data": {
      "text/plain": [
       "{3: [3], 1: [3, 1], 2: [3, 1, 2]}"
      ]
     },
     "execution_count": 26,
     "metadata": {},
     "output_type": "execute_result"
    }
   ],
   "source": [
    "sp = dict(nx.all_pairs_shortest_path(G))\n",
    "sp[3]"
   ]
  },
  {
   "cell_type": "markdown",
   "metadata": {},
   "source": [
    "Погледнете ги [Алгоритмите](https://networkx.github.io/documentation/stable/reference/algorithms/index.html) за детали за граф алгоритмите кои се поддржани и имплементирани во библиотеката."
   ]
  },
  {
   "cell_type": "markdown",
   "metadata": {},
   "source": [
    "## Цртање на графови \n"
   ]
  },
  {
   "cell_type": "markdown",
   "metadata": {},
   "source": [
    "NetworkX не е првенствено пакет за цртање графови, но вклучена е основна визуелизација со Matplotlib, како и интерфејс за користење на софтверскиот пакет **Graphviz**. Функционалностите се дел од модулот `networkx.drawing` и се вклучуваат ако успешно се импортирани. За да се тестира успешниот импорт на `networkx.drawing` може да се исцрта `G` со следните:"
   ]
  },
  {
   "cell_type": "code",
   "execution_count": 32,
   "metadata": {},
   "outputs": [],
   "source": [
    "import matplotlib.pyplot as plt"
   ]
  },
  {
   "cell_type": "code",
   "execution_count": 33,
   "metadata": {},
   "outputs": [],
   "source": [
    "# ipython -pylab"
   ]
  },
  {
   "cell_type": "code",
   "execution_count": 34,
   "metadata": {},
   "outputs": [
    {
     "data": {
      "image/png": "[encoded data removed]",
      "text/plain": [
       "<Figure size 432x288 with 2 Axes>"
      ]
     },
     "metadata": {},
     "output_type": "display_data"
    }
   ],
   "source": [
    "G = nx.petersen_graph()\n",
    "plt.subplot(121)\n",
    "nx.draw(G, with_labels=True, font_weight='bold')\n",
    "plt.subplot(122)\n",
    "nx.draw_shell(G, nlist=[range(5, 10), range(5)], with_labels=True, font_weight='bold')\n",
    "plt.show()"
   ]
  },
  {
   "cell_type": "markdown",
   "metadata": {},
   "source": [
    "Ako Graphviz и PyGraphviz или pydot, се достапни, исто така може да се користи `nx_agraph.graphviz_layout(G)` или `nx_pydot.graphviz_layout(G)` за да се земат позициите на јазлите, или за да се запише графот во dot формат за понатамошно процесирање. "
   ]
  },
  {
   "cell_type": "code",
   "execution_count": null,
   "metadata": {},
   "outputs": [],
   "source": [
    "from networkx.drawing.nx_pydot import write_dot\n",
    "pos = nx.nx_agraph.graphviz_layout(G)\n",
    "nx.draw(G, pos=pos)\n",
    "write_dot(G, 'file.dot')"
   ]
  },
  {
   "cell_type": "markdown",
   "metadata": {},
   "source": [
    "## Дополнителни функционалности: "
   ]
  },
  {
   "cell_type": "markdown",
   "metadata": {},
   "source": [
    "За подетални информации за работа со оваа библиотека погледнете ја [документацијата](https://networkx.github.io/documentation/latest/_downloads/networkx_reference.pdf). "
   ]
  }
 ],
 "metadata": {
  "kernelspec": {
   "display_name": "Python 3",
   "language": "python",
   "name": "python3"
  },
  "language_info": {
   "codemirror_mode": {
    "name": "ipython",
    "version": 3
   },
   "file_extension": ".py",
   "mimetype": "text/x-python",
   "name": "python",
   "nbconvert_exporter": "python",
   "pygments_lexer": "ipython3",
   "version": "3.6.6"
  },
  "pycharm": {
   "stem_cell": {
    "cell_type": "raw",
    "metadata": {
     "collapsed": false
    },
    "source": []
   }
  }
 },
 "nbformat": 4,
 "nbformat_minor": 1
}
